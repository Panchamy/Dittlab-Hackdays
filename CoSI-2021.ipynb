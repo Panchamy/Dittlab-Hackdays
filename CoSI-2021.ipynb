{
 "cells": [
  {
   "cell_type": "code",
   "execution_count": 1,
   "metadata": {},
   "outputs": [],
   "source": [
    "import requests\n",
    "from PIL import Image\n",
    "import io"
   ]
  },
  {
   "cell_type": "markdown",
   "metadata": {},
   "source": [
    "## CoSI api - 2021 data\n",
    "\n",
    "The CoSI API provides congestion represented as spatiotemporal patterns."
   ]
  },
  {
   "cell_type": "code",
   "execution_count": 2,
   "metadata": {},
   "outputs": [],
   "source": [
    "url = 'http://dittlab-backend.tudelft.nl/cosi-api-new/service'"
   ]
  },
  {
   "cell_type": "markdown",
   "metadata": {},
   "source": [
    "\n",
    "### 1. Context search\n",
    "The contextual search specifies various criteria for expected patterns, including:\n",
    "- Road number [`road_num`]: a list of roads where congestion can occur.\n",
    "- Date [`date`]: dates on when congestion occurs. This could be a range or a list of dates.\n",
    "- Time/Space extent [`time_ext, space_ext`]: specify how long or how far congestion lasts or propogates.\n",
    "- Total delay [`total_delay`]: the expected delay caused by congestion\n",
    "- Number of disturnbances [`number_of_disturbances`]: number of disturbances in congestion\n",
    "- Number of patterns [`num_pattern`]: expected number of patterns to obtain\n",
    "- Sort [`sort`]: to order patterns w.r.t certain features\n",
    "- Expected features [`return`]: specifies which features of congestion to get in return"
   ]
  },
  {
   "cell_type": "code",
   "execution_count": 3,
   "metadata": {},
   "outputs": [],
   "source": [
    "url = 'http://dittlab-backend.tudelft.nl/cosi-api-new/service'\n",
    "postdata = {\n",
    "    'service':'context_search',\n",
    "    'road_num': [1],\n",
    "    'convert_image': False,\n",
    "    'return_speed': False,\n",
    "    'image_size': (200, 200),\n",
    "    'num_pattern': 20,\n",
    "    'sort': {\n",
    "        'on': 'space_ext',\n",
    "        'order': 'dec'\n",
    "    },\n",
    "    'return': ['id', 'speed', 'date', 'road_number', 'space_extent', 'time_extent', 'number_of_disturbances', 'total_delay', 'global_index', 'representative', 'image_path']\n",
    "}\n",
    "res = requests.post(url, json=postdata)"
   ]
  },
  {
   "cell_type": "code",
   "execution_count": 4,
   "metadata": {},
   "outputs": [],
   "source": [
    "data = res.json()['data']"
   ]
  },
  {
   "cell_type": "code",
   "execution_count": 5,
   "metadata": {},
   "outputs": [
    {
     "data": {
      "text/plain": [
       "{'date': '2022-04-15',\n",
       " 'global_index': 0,\n",
       " 'id': 200661,\n",
       " 'image_path': 'https://dittlab-backend.tudelft.nl/cosi-api-new/image/2022/04/15/0.png',\n",
       " 'number_of_disturbances': nan,\n",
       " 'representative': True,\n",
       " 'road_number': ['A1'],\n",
       " 'space_extent': 38516,\n",
       " 'time_extent': 456,\n",
       " 'total_delay': 2097}"
      ]
     },
     "execution_count": 5,
     "metadata": {},
     "output_type": "execute_result"
    }
   ],
   "source": [
    "# first pattern\n",
    "data['15']"
   ]
  },
  {
   "cell_type": "code",
   "execution_count": 6,
   "metadata": {},
   "outputs": [
    {
     "name": "stderr",
     "output_type": "stream",
     "text": [
      "/Users/tinnguyen/.venv/cosi/lib/python3.8/site-packages/urllib3/connectionpool.py:1043: InsecureRequestWarning: Unverified HTTPS request is being made to host 'dittlab-backend.tudelft.nl'. Adding certificate verification is strongly advised. See: https://urllib3.readthedocs.io/en/1.26.x/advanced-usage.html#ssl-warnings\n",
      "  warnings.warn(\n"
     ]
    },
    {
     "data": {
      "image/png": "[encoded data removed]",
      "text/plain": [
       "<PIL.PngImagePlugin.PngImageFile image mode=RGBA size=100x100 at 0x7FD209A21C70>"
      ]
     },
     "execution_count": 6,
     "metadata": {},
     "output_type": "execute_result"
    }
   ],
   "source": [
    "response = requests.get(data['15']['image_path'], verify=False)\n",
    "img = Image.open(io.BytesIO(response.content))\n",
    "img"
   ]
  },
  {
   "cell_type": "markdown",
   "metadata": {},
   "source": [
    "## 2. ID search\n",
    "\n",
    "Each pattern is associated with an id. This id can also be used to query the pattern. Could be useful in case certain extra information is needed for the pattern."
   ]
  },
  {
   "cell_type": "code",
   "execution_count": 7,
   "metadata": {},
   "outputs": [],
   "source": [
    "postdata = {\n",
    "    'service':'data_retrieval',\n",
    "    'id': 29820,\n",
    "}\n",
    "res = requests.post(url, json=postdata)"
   ]
  },
  {
   "cell_type": "code",
   "execution_count": 8,
   "metadata": {},
   "outputs": [
    {
     "data": {
      "text/plain": [
       "dict_keys(['date', 'flow', 'geojson', 'id', 'space_resolution', 'speed', 't', 'time_resolution', 'x'])"
      ]
     },
     "execution_count": 8,
     "metadata": {},
     "output_type": "execute_result"
    }
   ],
   "source": [
    "pattern = res.json()['data']\n",
    "pattern.keys()"
   ]
  }
 ],
 "metadata": {
  "interpreter": {
   "hash": "1809bdbc1ba67d0e13adf47a3009acbf8d3841b516a5e02cf0e13cb141413fea"
  },
  "kernelspec": {
   "display_name": "Python 3.9.7 64-bit ('cosi': venv)",
   "name": "python3"
  },
  "language_info": {
   "codemirror_mode": {
    "name": "ipython",
    "version": 3
   },
   "file_extension": ".py",
   "mimetype": "text/x-python",
   "name": "python",
   "nbconvert_exporter": "python",
   "pygments_lexer": "ipython3",
   "version": "3.8.10"
  }
 },
 "nbformat": 4,
 "nbformat_minor": 2
}
